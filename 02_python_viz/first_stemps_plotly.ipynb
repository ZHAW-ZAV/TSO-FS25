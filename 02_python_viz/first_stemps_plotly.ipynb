{
 "cells": [
  {
   "cell_type": "markdown",
   "metadata": {},
   "source": [
    "<a target=\"_blank\" href=\"https://colab.research.google.com/github/ZHAW-ZAV/TSO-FS25/blob/main/02_python_viz/first_stemps_plotly.ipynb\">\n",
    "  <img src=\"https://colab.research.google.com/assets/colab-badge.svg\" alt=\"Open In Colab\"/>\n",
    "</a>"
   ]
  },
  {
   "cell_type": "code",
   "execution_count": null,
   "metadata": {},
   "outputs": [],
   "source": [
    "import sys\n",
    "import os\n",
    "\n",
    "IN_COLAB = \"google.colab\" in sys.modules\n",
    "\n",
    "file_id_airports = \"1kMt6v9y99hsqgM9ths5Tsdy21VvRb_eB\"\n",
    "file_id_airports_eur = \"1htJ9M2E6uiJSyQq0vvxIvUqIefwa-L73\"\n",
    "file_id_co2 = \"1XsuqMub8M3SdP50X1MIwAci-lsYS0X9t\"\n",
    "\n",
    "# if IN_COLAB:\n",
    "#     path_to_airports = \"/content/data/airports.csv\"\n",
    "#     os.makedirs(os.path.dirname(path_to_airports), exist_ok=True)\n",
    "#     !gdown \"https://drive.google.com/uc?id={file_id_airports}\" -O \"{path_to_airports}\"\n",
    "# else:\n",
    "#     import gdown\n",
    "\n",
    "#     url = f\"https://drive.google.com/uc?id={file_id_airports}\"\n",
    "#     path_to_airports = \"data/airports.csv\"\n",
    "#     os.makedirs(os.path.dirname(path_to_airports), exist_ok=True)\n",
    "#     gdown.download(url, path_to_airports, quiet=False)\n",
    "if IN_COLAB:\n",
    "    path_to_co2 = \"/content/data/co2_emmissions_by_state_2023.csv\"\n",
    "    os.makedirs(os.path.dirname(path_to_co2), exist_ok=True)\n",
    "    !gdown \"https://drive.google.com/uc?id={file_id_co2}\" -O \"{path_to_co2}\"\n",
    "else:\n",
    "    import gdown\n",
    "\n",
    "    url = f\"https://drive.google.com/uc?id={file_id_co2}\"\n",
    "    path_to_co2 = \"data/co2_emmissions_by_state_2023.csv\"\n",
    "    os.makedirs(os.path.dirname(path_to_co2), exist_ok=True)\n",
    "    gdown.download(url, path_to_co2, quiet=False)\n"
   ]
  },
  {
   "cell_type": "code",
   "execution_count": 1,
   "metadata": {},
   "outputs": [],
   "source": [
    "from plotly import graph_objects as go\n",
    "from plotly import express as px"
   ]
  }
 ],
 "metadata": {
  "kernelspec": {
   "display_name": "tso-fs25",
   "language": "python",
   "name": "python3"
  },
  "language_info": {
   "codemirror_mode": {
    "name": "ipython",
    "version": 3
   },
   "file_extension": ".py",
   "mimetype": "text/x-python",
   "name": "python",
   "nbconvert_exporter": "python",
   "pygments_lexer": "ipython3",
   "version": "3.12.8"
  }
 },
 "nbformat": 4,
 "nbformat_minor": 2
}
