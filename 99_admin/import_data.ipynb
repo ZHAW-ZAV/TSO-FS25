{
 "cells": [
  {
   "cell_type": "markdown",
   "metadata": {},
   "source": [
    "# Import data, locally and on Colab\n",
    "The following code illustrates how to import data from a local file and from a file stored on Google Drive. Just copy the first cell into your notebook that you provide as a template and it will work on both local and Colab environments.\n",
    "\n",
    "NOTE: The file needs to be on Google Drive and shared with a link. You can then extract the file ID from the link and use it in the code below.\n"
   ]
  },
  {
   "cell_type": "code",
   "execution_count": null,
   "metadata": {},
   "outputs": [
    {
     "name": "stderr",
     "output_type": "stream",
     "text": [
      "Downloading...\n",
      "From: https://drive.google.com/uc?id=1XPlAgw104eeoDQavyZ6AynudQQjyy77c\n",
      "To: /Users/rm/Desktop/Daten/Git/zhaw/TSO-FS25/01_python_basics/data/airports.csv\n",
      "100%|██████████| 210k/210k [00:00<00:00, 11.4MB/s]\n"
     ]
    }
   ],
   "source": [
    "import sys\n",
    "import os\n",
    "\n",
    "IN_COLAB = \"google.colab\" in sys.modules\n",
    "\n",
    "file_id = \"1XPlAgw104eeoDQavyZ6AynudQQjyy77c\"\n",
    "\n",
    "if IN_COLAB:\n",
    "    path_to_data = \"/content/data/airports.csv\"\n",
    "    os.makedirs(os.path.dirname(path_to_data), exist_ok=True)\n",
    "    !gdown \"https://drive.google.com/uc?id={file_id}\" -O \"{path_to_data}\"\n",
    "else:\n",
    "    import gdown\n",
    "\n",
    "    url = f\"https://drive.google.com/uc?id={file_id}\"\n",
    "    path_to_data = \"data/airports.csv\"\n",
    "    os.makedirs(os.path.dirname(path_to_data), exist_ok=True)\n",
    "    gdown.download(url, path_to_data, quiet=False)\n"
   ]
  },
  {
   "cell_type": "code",
   "execution_count": 4,
   "metadata": {},
   "outputs": [],
   "source": [
    "import pandas as pd"
   ]
  },
  {
   "cell_type": "code",
   "execution_count": 5,
   "metadata": {},
   "outputs": [
    {
     "data": {
      "text/html": [
       "<div>\n",
       "<style scoped>\n",
       "    .dataframe tbody tr th:only-of-type {\n",
       "        vertical-align: middle;\n",
       "    }\n",
       "\n",
       "    .dataframe tbody tr th {\n",
       "        vertical-align: top;\n",
       "    }\n",
       "\n",
       "    .dataframe thead th {\n",
       "        text-align: right;\n",
       "    }\n",
       "</style>\n",
       "<table border=\"1\" class=\"dataframe\">\n",
       "  <thead>\n",
       "    <tr style=\"text-align: right;\">\n",
       "      <th></th>\n",
       "      <th>iata</th>\n",
       "      <th>name</th>\n",
       "      <th>city</th>\n",
       "      <th>state</th>\n",
       "      <th>country</th>\n",
       "      <th>latitude</th>\n",
       "      <th>longitude</th>\n",
       "    </tr>\n",
       "  </thead>\n",
       "  <tbody>\n",
       "    <tr>\n",
       "      <th>0</th>\n",
       "      <td>00M</td>\n",
       "      <td>Thigpen</td>\n",
       "      <td>Bay Springs</td>\n",
       "      <td>MS</td>\n",
       "      <td>USA</td>\n",
       "      <td>31.953765</td>\n",
       "      <td>-89.234505</td>\n",
       "    </tr>\n",
       "    <tr>\n",
       "      <th>1</th>\n",
       "      <td>00R</td>\n",
       "      <td>Livingston Municipal</td>\n",
       "      <td>Livingston</td>\n",
       "      <td>TX</td>\n",
       "      <td>USA</td>\n",
       "      <td>30.685861</td>\n",
       "      <td>-95.017928</td>\n",
       "    </tr>\n",
       "    <tr>\n",
       "      <th>2</th>\n",
       "      <td>00V</td>\n",
       "      <td>Meadow Lake</td>\n",
       "      <td>Colorado Springs</td>\n",
       "      <td>CO</td>\n",
       "      <td>USA</td>\n",
       "      <td>38.945749</td>\n",
       "      <td>-104.569893</td>\n",
       "    </tr>\n",
       "    <tr>\n",
       "      <th>3</th>\n",
       "      <td>01G</td>\n",
       "      <td>Perry-Warsaw</td>\n",
       "      <td>Perry</td>\n",
       "      <td>NY</td>\n",
       "      <td>USA</td>\n",
       "      <td>42.741347</td>\n",
       "      <td>-78.052081</td>\n",
       "    </tr>\n",
       "    <tr>\n",
       "      <th>4</th>\n",
       "      <td>01J</td>\n",
       "      <td>Hilliard Airpark</td>\n",
       "      <td>Hilliard</td>\n",
       "      <td>FL</td>\n",
       "      <td>USA</td>\n",
       "      <td>30.688012</td>\n",
       "      <td>-81.905944</td>\n",
       "    </tr>\n",
       "  </tbody>\n",
       "</table>\n",
       "</div>"
      ],
      "text/plain": [
       "  iata                  name              city state country   latitude  \\\n",
       "0  00M               Thigpen       Bay Springs    MS     USA  31.953765   \n",
       "1  00R  Livingston Municipal        Livingston    TX     USA  30.685861   \n",
       "2  00V           Meadow Lake  Colorado Springs    CO     USA  38.945749   \n",
       "3  01G          Perry-Warsaw             Perry    NY     USA  42.741347   \n",
       "4  01J      Hilliard Airpark          Hilliard    FL     USA  30.688012   \n",
       "\n",
       "    longitude  \n",
       "0  -89.234505  \n",
       "1  -95.017928  \n",
       "2 -104.569893  \n",
       "3  -78.052081  \n",
       "4  -81.905944  "
      ]
     },
     "execution_count": 5,
     "metadata": {},
     "output_type": "execute_result"
    }
   ],
   "source": [
    "data = pd.read_csv(path_to_data)\n",
    "data.head()"
   ]
  }
 ],
 "metadata": {
  "kernelspec": {
   "display_name": "tso-fs25",
   "language": "python",
   "name": "python3"
  },
  "language_info": {
   "codemirror_mode": {
    "name": "ipython",
    "version": 3
   },
   "file_extension": ".py",
   "mimetype": "text/x-python",
   "name": "python",
   "nbconvert_exporter": "python",
   "pygments_lexer": "ipython3",
   "version": "3.12.8"
  }
 },
 "nbformat": 4,
 "nbformat_minor": 2
}
