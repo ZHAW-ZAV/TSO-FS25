{
 "cells": [
  {
   "cell_type": "code",
   "execution_count": 2,
   "metadata": {},
   "outputs": [],
   "source": [
    "from traffic.data.datasets import squawk7700\n",
    "import matplotlib.pyplot as plt\n",
    "from matplotlib.dates import DateFormatter"
   ]
  },
  {
   "cell_type": "code",
   "execution_count": null,
   "metadata": {},
   "outputs": [],
   "source": [
    "squawk7700.metadata[:10]"
   ]
  },
  {
   "cell_type": "code",
   "execution_count": null,
   "metadata": {},
   "outputs": [],
   "source": [
    "# engine problems, return to origin\n",
    "squawk7700[\"EDW24_20180111\"]"
   ]
  },
  {
   "cell_type": "code",
   "execution_count": null,
   "metadata": {},
   "outputs": [],
   "source": [
    "with plt.style.context(\"traffic\"):\n",
    "    fig, ax = plt.subplots(figsize=(10, 7))\n",
    "\n",
    "    squawk7700[\"EDW24_20180111\"].plot_time(\n",
    "        ax=ax, y=[\"altitude\", \"groundspeed\"], secondary_y=[\"groundspeed\"]\n",
    "    )\n",
    "    plt.show()"
   ]
  },
  {
   "cell_type": "code",
   "execution_count": null,
   "metadata": {},
   "outputs": [],
   "source": [
    "# cabin pressure problems\n",
    "squawk7700[\"RPA4599_20190719\"]"
   ]
  },
  {
   "cell_type": "code",
   "execution_count": null,
   "metadata": {},
   "outputs": [],
   "source": [
    "with plt.style.context(\"traffic\"):\n",
    "    fig, ax = plt.subplots(figsize=(10, 7))\n",
    "\n",
    "    squawk7700[\"RPA4599_20190719\"].plot_time(\n",
    "        ax=ax, y=[\"altitude\", \"groundspeed\"], secondary_y=[\"groundspeed\"]\n",
    "    )\n",
    "    plt.show()"
   ]
  },
  {
   "cell_type": "code",
   "execution_count": null,
   "metadata": {},
   "outputs": [],
   "source": [
    "pressure_pbs = [\"cabin_pressure\", \"cracked_windshield\"]\n",
    "pressure = squawk7700.query(\n",
    "    f\"tweet_problem in {pressure_pbs} or avh_problem in {pressure_pbs}\"\n",
    ")\n",
    "pressure | pressure.query(\"diverted == diverted\")"
   ]
  },
  {
   "cell_type": "code",
   "execution_count": 9,
   "metadata": {},
   "outputs": [],
   "source": [
    "# ids = pressure.query(\"diverted == diverted\").flight_ids\n",
    "# for flight_id in ids:\n",
    "#     to_plot = pressure[flight_id]\n",
    "#     with plt.style.context(\"traffic\"):\n",
    "\n",
    "#         fig, ax = plt.subplots(figsize=(10, 7))\n",
    "\n",
    "#         to_plot.plot_time(\n",
    "#                 ax=ax,\n",
    "#                 y=[\"altitude\", \"groundspeed\"],\n",
    "#                 secondary_y=[\"groundspeed\"],\n",
    "#                 title=flight_id\n",
    "#             )\n",
    "#         plt.show()"
   ]
  },
  {
   "cell_type": "code",
   "execution_count": null,
   "metadata": {},
   "outputs": [],
   "source": [
    "to_keep = [\"EDW24_20180111\", \"RPA4599_20190719\"]\n",
    "squawk7700[to_keep].data.columns"
   ]
  },
  {
   "cell_type": "code",
   "execution_count": null,
   "metadata": {},
   "outputs": [],
   "source": [
    "to_keep = [\"EDW24_20180111\", \"RPA4599_20190719\"]\n",
    "\n",
    "cols_to_keep = [\n",
    "    \"timestamp\",\n",
    "    \"altitude\",\n",
    "    \"callsign\",\n",
    "    \"flight_id\",\n",
    "    \"groundspeed\",\n",
    "    \"icao24\",\n",
    "    \"latitude\",\n",
    "    \"longitude\",\n",
    "    \"squawk\",\n",
    "    \"vertical_rate\",\n",
    "    \"registration\",\n",
    "    \"typecode\",\n",
    "    \"origin\",\n",
    "    \"landing\",\n",
    "    \"destination\",\n",
    "]\n",
    "\n",
    "squawk7700[to_keep].data[cols_to_keep].to_csv(\"plotly_trajs.csv\", index=False)"
   ]
  }
 ],
 "metadata": {
  "kernelspec": {
   "display_name": "tso-fs25",
   "language": "python",
   "name": "python3"
  },
  "language_info": {
   "codemirror_mode": {
    "name": "ipython",
    "version": 3
   },
   "file_extension": ".py",
   "mimetype": "text/x-python",
   "name": "python",
   "nbconvert_exporter": "python",
   "pygments_lexer": "ipython3",
   "version": "3.12.8"
  }
 },
 "nbformat": 4,
 "nbformat_minor": 2
}
