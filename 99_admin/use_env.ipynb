{
  "cells": [
    {
      "cell_type": "markdown",
      "metadata": {
        "id": "07UJEZslL6sf"
      },
      "source": [
        "# How to import an environment from a google drive\n",
        "The following code section copies the zipped env, extracts it and adds it to the path.\n",
        "\n",
        "The file ID can be found in the shareable link of the file and you can create that on google drive by right clicking the file and selecting share.\n",
        "\n",
        "How to set up the environment is shown in setup_tso_env.ipynb.\n"
      ]
    },
    {
      "cell_type": "code",
      "execution_count": null,
      "metadata": {
        "colab": {
          "base_uri": "https://localhost:8080/"
        },
        "id": "06tOeil5j_PC",
        "outputId": "e3669065-44a3-4b67-adc9-ec1acb042d8a"
      },
      "outputs": [],
      "source": [
        "import sys\n",
        "\n",
        "IN_COLAB = \"google.colab\" in sys.modules\n",
        "\n",
        "# check if we are in colab and install the env if needed,\n",
        "# otherwise just import the needed modules. It is assumed that the\n",
        "# user has the environment installed in the local machine.\n",
        "if IN_COLAB:\n",
        "    from google.colab import drive\n",
        "\n",
        "    drive.mount(\"/content/drive\")\n",
        "    shared_file = \"1ynQBVUVC1z7nGFE24gkYqRV6I2tZGgq1\"\n",
        "    !gdown \"https://drive.google.com/uc?id={shared_file}\" -O tso-env.zip\n",
        "\n",
        "    !unzip tso-env.zip -d /content | tqdm > /dev/null\n",
        "\n",
        "    !source /content/tso-env/bin/activate\n",
        "\n",
        "    sys.path.append(\"/content/tso-env/lib/python3.10/site-packages/\")"
      ]
    },
    {
      "cell_type": "markdown",
      "metadata": {
        "id": "c1uPE5hwMbIa"
      },
      "source": [
        "# Start your code from here.."
      ]
    },
    {
      "cell_type": "code",
      "execution_count": 4,
      "metadata": {
        "id": "PcfPtwFfxsPQ"
      },
      "outputs": [],
      "source": [
        "from traffic.data.samples import quickstart"
      ]
    },
    {
      "cell_type": "code",
      "execution_count": 5,
      "metadata": {
        "colab": {
          "base_uri": "https://localhost:8080/",
          "height": 333
        },
        "id": "d9PHekpwxsZa",
        "outputId": "c1ad8f3c-19ea-47bf-964a-00c9012f3320"
      },
      "outputs": [
        {
          "data": {
            "text/html": [
              "<h4><b>Traffic</b></h4> with 236 identifiers<style type=\"text/css\">\n",
              "#T_593e1_row0_col0 {\n",
              "  width: 10em;\n",
              "  background: linear-gradient(90deg, #5fba7d 100.0%, transparent 100.0%);\n",
              "}\n",
              "#T_593e1_row1_col0 {\n",
              "  width: 10em;\n",
              "  background: linear-gradient(90deg, #5fba7d 86.3%, transparent 86.3%);\n",
              "}\n",
              "#T_593e1_row2_col0 {\n",
              "  width: 10em;\n",
              "  background: linear-gradient(90deg, #5fba7d 68.6%, transparent 68.6%);\n",
              "}\n",
              "#T_593e1_row3_col0 {\n",
              "  width: 10em;\n",
              "  background: linear-gradient(90deg, #5fba7d 57.7%, transparent 57.7%);\n",
              "}\n",
              "#T_593e1_row4_col0 {\n",
              "  width: 10em;\n",
              "  background: linear-gradient(90deg, #5fba7d 55.7%, transparent 55.7%);\n",
              "}\n",
              "#T_593e1_row5_col0 {\n",
              "  width: 10em;\n",
              "  background: linear-gradient(90deg, #5fba7d 55.6%, transparent 55.6%);\n",
              "}\n",
              "#T_593e1_row6_col0 {\n",
              "  width: 10em;\n",
              "  background: linear-gradient(90deg, #5fba7d 54.8%, transparent 54.8%);\n",
              "}\n",
              "#T_593e1_row7_col0 {\n",
              "  width: 10em;\n",
              "  background: linear-gradient(90deg, #5fba7d 54.6%, transparent 54.6%);\n",
              "}\n",
              "#T_593e1_row8_col0 {\n",
              "  width: 10em;\n",
              "  background: linear-gradient(90deg, #5fba7d 53.3%, transparent 53.3%);\n",
              "}\n",
              "#T_593e1_row9_col0 {\n",
              "  width: 10em;\n",
              "  background: linear-gradient(90deg, #5fba7d 52.8%, transparent 52.8%);\n",
              "}\n",
              "</style>\n",
              "<table id=\"T_593e1\">\n",
              "  <thead>\n",
              "    <tr>\n",
              "      <th class=\"blank\" >&nbsp;</th>\n",
              "      <th class=\"blank level0\" >&nbsp;</th>\n",
              "      <th id=\"T_593e1_level0_col0\" class=\"col_heading level0 col0\" >count</th>\n",
              "    </tr>\n",
              "    <tr>\n",
              "      <th class=\"index_name level0\" >icao24</th>\n",
              "      <th class=\"index_name level1\" >callsign</th>\n",
              "      <th class=\"blank col0\" >&nbsp;</th>\n",
              "    </tr>\n",
              "  </thead>\n",
              "  <tbody>\n",
              "    <tr>\n",
              "      <th id=\"T_593e1_level0_row0\" class=\"row_heading level0 row0\" >39d300</th>\n",
              "      <th id=\"T_593e1_level1_row0\" class=\"row_heading level1 row0\" >TVF91KQ</th>\n",
              "      <td id=\"T_593e1_row0_col0\" class=\"data row0 col0\" >3893</td>\n",
              "    </tr>\n",
              "    <tr>\n",
              "      <th id=\"T_593e1_level0_row1\" class=\"row_heading level0 row1\" >39b002</th>\n",
              "      <th id=\"T_593e1_level1_row1\" class=\"row_heading level1 row1\" >FHMAC</th>\n",
              "      <td id=\"T_593e1_row1_col0\" class=\"data row1 col0\" >3360</td>\n",
              "    </tr>\n",
              "    <tr>\n",
              "      <th id=\"T_593e1_level0_row2\" class=\"row_heading level0 row2\" >3aabfc</th>\n",
              "      <th id=\"T_593e1_level1_row2\" class=\"row_heading level1 row2\" >FMY8055</th>\n",
              "      <td id=\"T_593e1_row2_col0\" class=\"data row2 col0\" >2669</td>\n",
              "    </tr>\n",
              "    <tr>\n",
              "      <th id=\"T_593e1_level0_row3\" class=\"row_heading level0 row3\" >39c82b</th>\n",
              "      <th id=\"T_593e1_level1_row3\" class=\"row_heading level1 row3\" >PEA501</th>\n",
              "      <td id=\"T_593e1_row3_col0\" class=\"data row3 col0\" >2247</td>\n",
              "    </tr>\n",
              "    <tr>\n",
              "      <th id=\"T_593e1_level0_row4\" class=\"row_heading level0 row4\" >4241bb</th>\n",
              "      <th id=\"T_593e1_level1_row4\" class=\"row_heading level1 row4\" >VPCAL</th>\n",
              "      <td id=\"T_593e1_row4_col0\" class=\"data row4 col0\" >2168</td>\n",
              "    </tr>\n",
              "    <tr>\n",
              "      <th id=\"T_593e1_level0_row5\" class=\"row_heading level0 row5\" >02a195</th>\n",
              "      <th id=\"T_593e1_level1_row5\" class=\"row_heading level1 row5\" >TAR722</th>\n",
              "      <td id=\"T_593e1_row5_col0\" class=\"data row5 col0\" >2166</td>\n",
              "    </tr>\n",
              "    <tr>\n",
              "      <th id=\"T_593e1_level0_row6\" class=\"row_heading level0 row6\" >398495</th>\n",
              "      <th id=\"T_593e1_level1_row6\" class=\"row_heading level1 row6\" >CCM774V</th>\n",
              "      <td id=\"T_593e1_row6_col0\" class=\"data row6 col0\" >2134</td>\n",
              "    </tr>\n",
              "    <tr>\n",
              "      <th id=\"T_593e1_level0_row7\" class=\"row_heading level0 row7\" >4bc844</th>\n",
              "      <th id=\"T_593e1_level1_row7\" class=\"row_heading level1 row7\" >PGT90Y</th>\n",
              "      <td id=\"T_593e1_row7_col0\" class=\"data row7 col0\" >2124</td>\n",
              "    </tr>\n",
              "    <tr>\n",
              "      <th id=\"T_593e1_level0_row8\" class=\"row_heading level0 row8\" >39ceb4</th>\n",
              "      <th id=\"T_593e1_level1_row8\" class=\"row_heading level1 row8\" >TVF19YP</th>\n",
              "      <td id=\"T_593e1_row8_col0\" class=\"data row8 col0\" >2076</td>\n",
              "    </tr>\n",
              "    <tr>\n",
              "      <th id=\"T_593e1_level0_row9\" class=\"row_heading level0 row9\" >4d02be</th>\n",
              "      <th id=\"T_593e1_level1_row9\" class=\"row_heading level1 row9\" >JFA12P</th>\n",
              "      <td id=\"T_593e1_row9_col0\" class=\"data row9 col0\" >2057</td>\n",
              "    </tr>\n",
              "  </tbody>\n",
              "</table>\n"
            ],
            "text/plain": [
              "   icao24 callsign  count\n",
              "0  39d300  TVF91KQ   3893\n",
              "1  39b002    FHMAC   3360\n",
              "2  3aabfc  FMY8055   2669\n",
              "3  39c82b   PEA501   2247\n",
              "4  4241bb    VPCAL   2168\n",
              "5  02a195   TAR722   2166\n",
              "6  398495  CCM774V   2134\n",
              "7  4bc844   PGT90Y   2124\n",
              "8  39ceb4  TVF19YP   2076\n",
              "9  4d02be   JFA12P   2057"
            ]
          },
          "execution_count": 5,
          "metadata": {},
          "output_type": "execute_result"
        }
      ],
      "source": [
        "quickstart"
      ]
    },
    {
      "cell_type": "code",
      "execution_count": 3,
      "metadata": {
        "id": "QCx-x2iBxsdk"
      },
      "outputs": [],
      "source": []
    }
  ],
  "metadata": {
    "colab": {
      "provenance": []
    },
    "kernelspec": {
      "display_name": "tso-fs25",
      "language": "python",
      "name": "python3"
    },
    "language_info": {
      "codemirror_mode": {
        "name": "ipython",
        "version": 3
      },
      "file_extension": ".py",
      "mimetype": "text/x-python",
      "name": "python",
      "nbconvert_exporter": "python",
      "pygments_lexer": "ipython3",
      "version": "3.12.8"
    }
  },
  "nbformat": 4,
  "nbformat_minor": 0
}
